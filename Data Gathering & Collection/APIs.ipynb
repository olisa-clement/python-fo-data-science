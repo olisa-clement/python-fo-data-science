{
 "cells": [
  {
   "cell_type": "markdown",
   "metadata": {},
   "source": [
    "## Overview of Application Programming Interface(API)"
   ]
  },
  {
   "cell_type": "markdown",
   "metadata": {},
   "source": [
    "### Get & Post Request"
   ]
  },
  {
   "cell_type": "markdown",
   "metadata": {},
   "source": [
    "#### JavaScript Object Notation(JSON)"
   ]
  },
  {
   "cell_type": "markdown",
   "metadata": {},
   "source": [
    "##### Pulling Data from Public APIs"
   ]
  },
  {
   "cell_type": "code",
   "execution_count": 1,
   "metadata": {},
   "outputs": [],
   "source": [
    "base_url = \"http://api.exchangeratesapi.io/v1/latest?access_key=c9d3fe1a3488dc7d7cb65b90ec602614&format=1\""
   ]
  },
  {
   "cell_type": "markdown",
   "metadata": {},
   "source": [
    "### Sending GET request"
   ]
  },
  {
   "cell_type": "code",
   "execution_count": 2,
   "metadata": {},
   "outputs": [],
   "source": [
    "import requests"
   ]
  },
  {
   "cell_type": "code",
   "execution_count": 4,
   "metadata": {},
   "outputs": [],
   "source": [
    "response = requests.get(base_url)"
   ]
  },
  {
   "cell_type": "markdown",
   "metadata": {},
   "source": [
    "### Investigating The response"
   ]
  },
  {
   "cell_type": "code",
   "execution_count": 5,
   "metadata": {},
   "outputs": [
    {
     "data": {
      "text/plain": [
       "True"
      ]
     },
     "execution_count": 5,
     "metadata": {},
     "output_type": "execute_result"
    }
   ],
   "source": [
    "response.ok"
   ]
  },
  {
   "cell_type": "code",
   "execution_count": 6,
   "metadata": {},
   "outputs": [
    {
     "data": {
      "text/plain": [
       "200"
      ]
     },
     "execution_count": 6,
     "metadata": {},
     "output_type": "execute_result"
    }
   ],
   "source": [
    "response.status_code"
   ]
  },
  {
   "cell_type": "code",
   "execution_count": 7,
   "metadata": {},
   "outputs": [
    {
     "data": {
      "text/plain": [
       "'{\\n  \"success\":true,\\n  \"timestamp\":1637354824,\\n  \"base\":\"EUR\",\\n  \"date\":\"2021-11-19\",\\n  \"rates\":{\\n    \"AED\":4.147636,\\n    \"AFN\":105.471156,\\n    \"ALL\":121.38949,\\n    \"AMD\":538.50227,\\n    \"ANG\":2.033964,\\n    \"AOA\":671.006857,\\n    \"ARS\":113.442896,\\n    \"AUD\":1.560577,\\n    \"AWG\":2.032916,\\n    \"AZN\":1.924193,\\n    \"BAM\":1.95533,\\n    \"BBD\":2.278675,\\n    \"BDT\":96.738444,\\n    \"BGN\":1.955963,\\n    \"BHD\":0.425747,\\n    \"BIF\":2246.926545,\\n    \"BMD\":1.129241,\\n    \"BND\":1.53628,\\n    \"BOB\":7.792779,\\n    \"BRL\":6.329063,\\n    \"BSD\":1.128591,\\n    \"BTC\":1.9457319e-5,\\n    \"BTN\":83.801282,\\n    \"BWP\":13.162633,\\n    \"BYN\":2.785188,\\n    \"BYR\":22133.127142,\\n    \"BZD\":2.274876,\\n    \"CAD\":1.428383,\\n    \"CDF\":2265.258217,\\n    \"CHF\":1.048433,\\n    \"CLF\":0.033906,\\n    \"CLP\":935.580736,\\n    \"CNY\":7.212694,\\n    \"COP\":4422.311727,\\n    \"CRC\":722.368481,\\n    \"CUC\":1.129241,\\n    \"CUP\":29.924891,\\n    \"CVE\":110.225095,\\n    \"CZK\":25.419664,\\n    \"DJF\":200.689187,\\n    \"DKK\":7.437104,\\n    \"DOP\":63.797903,\\n    \"DZD\":157.145437,\\n    \"EGP\":17.723897,\\n    \"ERN\":16.938968,\\n    \"ETB\":53.798523,\\n    \"EUR\":1,\\n    \"FJD\":2.371915,\\n    \"FKP\":0.841775,\\n    \"GBP\":0.839766,\\n    \"GEL\":3.528924,\\n    \"GGP\":0.841775,\\n    \"GHS\":6.915296,\\n    \"GIP\":0.841775,\\n    \"GMD\":59.176589,\\n    \"GNF\":10781.196882,\\n    \"GTQ\":8.72954,\\n    \"GYD\":236.134512,\\n    \"HKD\":8.796975,\\n    \"HNL\":27.214148,\\n    \"HRK\":7.514766,\\n    \"HTG\":110.665936,\\n    \"HUF\":367.760413,\\n    \"IDR\":16108.738367,\\n    \"ILS\":3.496493,\\n    \"IMP\":0.841775,\\n    \"INR\":83.979187,\\n    \"IQD\":1646.729661,\\n    \"IRR\":47710.440284,\\n    \"ISK\":147.806814,\\n    \"JEP\":0.841775,\\n    \"JMD\":175.636079,\\n    \"JOD\":0.800677,\\n    \"JPY\":128.732935,\\n    \"KES\":126.509324,\\n    \"KGS\":95.737524,\\n    \"KHR\":4591.444355,\\n    \"KMF\":488.961827,\\n    \"KPW\":1016.317458,\\n    \"KRW\":1346.275734,\\n    \"KWD\":0.341698,\\n    \"KYD\":0.940559,\\n    \"KZT\":489.234871,\\n    \"LAK\":12093.692677,\\n    \"LBP\":1706.733251,\\n    \"LKR\":227.99165,\\n    \"LRD\":161.481882,\\n    \"LSL\":17.661763,\\n    \"LTL\":3.334356,\\n    \"LVL\":0.683067,\\n    \"LYD\":5.184323,\\n    \"MAD\":10.396936,\\n    \"MDL\":19.97779,\\n    \"MGA\":4502.999779,\\n    \"MKD\":61.599245,\\n    \"MMK\":1999.723626,\\n    \"MNT\":3227.61816,\\n    \"MOP\":9.058623,\\n    \"MRO\":403.138907,\\n    \"MUR\":48.896505,\\n    \"MVR\":17.447204,\\n    \"MWK\":920.389791,\\n    \"MXN\":23.545586,\\n    \"MYR\":4.724185,\\n    \"MZN\":72.079891,\\n    \"NAD\":17.661758,\\n    \"NGN\":463.937872,\\n    \"NIO\":39.759606,\\n    \"NOK\":10.066738,\\n    \"NPR\":134.082332,\\n    \"NZD\":1.614358,\\n    \"OMR\":0.434696,\\n    \"PAB\":1.128591,\\n    \"PEN\":4.542555,\\n    \"PGK\":3.963816,\\n    \"PHP\":57.083565,\\n    \"PKR\":197.688588,\\n    \"PLN\":4.691293,\\n    \"PYG\":7725.303208,\\n    \"QAR\":4.111611,\\n    \"RON\":4.950711,\\n    \"RSD\":117.610891,\\n    \"RUB\":83.001151,\\n    \"RWF\":1168.127103,\\n    \"SAR\":4.235477,\\n    \"SBD\":9.088532,\\n    \"SCR\":16.852838,\\n    \"SDG\":494.608021,\\n    \"SEK\":10.105382,\\n    \"SGD\":1.537466,\\n    \"SHP\":1.555421,\\n    \"SLL\":12449.8844,\\n    \"SOS\":659.477232,\\n    \"SRD\":24.275341,\\n    \"STD\":23373.012512,\\n    \"SVC\":9.875425,\\n    \"SYP\":1419.211749,\\n    \"SZL\":17.773865,\\n    \"THB\":37.084698,\\n    \"TJS\":12.748539,\\n    \"TMT\":3.952344,\\n    \"TND\":3.232736,\\n    \"TOP\":2.55288,\\n    \"TRY\":12.692615,\\n    \"TTD\":7.660327,\\n    \"TWD\":31.391818,\\n    \"TZS\":2599.513577,\\n    \"UAH\":30.010257,\\n    \"UGX\":4034.639339,\\n    \"USD\":1.129241,\\n    \"UYU\":49.797972,\\n    \"UZS\":12123.649207,\\n    \"VEF\":241465892748.1544,\\n    \"VND\":25590.863638,\\n    \"VUV\":125.706687,\\n    \"WST\":2.894969,\\n    \"XAF\":655.777661,\\n    \"XAG\":0.045844,\\n    \"XAU\":0.000611,\\n    \"XCD\":3.051831,\\n    \"XDR\":0.80568,\\n    \"XOF\":655.71961,\\n    \"XPF\":118.993832,\\n    \"YER\":282.593016,\\n    \"ZAR\":17.775759,\\n    \"ZMK\":10164.529773,\\n    \"ZMW\":19.891099,\\n    \"ZWL\":363.615199\\n  }\\n}'"
      ]
     },
     "execution_count": 7,
     "metadata": {},
     "output_type": "execute_result"
    }
   ],
   "source": [
    "response.text"
   ]
  },
  {
   "cell_type": "code",
   "execution_count": 8,
   "metadata": {},
   "outputs": [
    {
     "data": {
      "text/plain": [
       "b'{\\n  \"success\":true,\\n  \"timestamp\":1637354824,\\n  \"base\":\"EUR\",\\n  \"date\":\"2021-11-19\",\\n  \"rates\":{\\n    \"AED\":4.147636,\\n    \"AFN\":105.471156,\\n    \"ALL\":121.38949,\\n    \"AMD\":538.50227,\\n    \"ANG\":2.033964,\\n    \"AOA\":671.006857,\\n    \"ARS\":113.442896,\\n    \"AUD\":1.560577,\\n    \"AWG\":2.032916,\\n    \"AZN\":1.924193,\\n    \"BAM\":1.95533,\\n    \"BBD\":2.278675,\\n    \"BDT\":96.738444,\\n    \"BGN\":1.955963,\\n    \"BHD\":0.425747,\\n    \"BIF\":2246.926545,\\n    \"BMD\":1.129241,\\n    \"BND\":1.53628,\\n    \"BOB\":7.792779,\\n    \"BRL\":6.329063,\\n    \"BSD\":1.128591,\\n    \"BTC\":1.9457319e-5,\\n    \"BTN\":83.801282,\\n    \"BWP\":13.162633,\\n    \"BYN\":2.785188,\\n    \"BYR\":22133.127142,\\n    \"BZD\":2.274876,\\n    \"CAD\":1.428383,\\n    \"CDF\":2265.258217,\\n    \"CHF\":1.048433,\\n    \"CLF\":0.033906,\\n    \"CLP\":935.580736,\\n    \"CNY\":7.212694,\\n    \"COP\":4422.311727,\\n    \"CRC\":722.368481,\\n    \"CUC\":1.129241,\\n    \"CUP\":29.924891,\\n    \"CVE\":110.225095,\\n    \"CZK\":25.419664,\\n    \"DJF\":200.689187,\\n    \"DKK\":7.437104,\\n    \"DOP\":63.797903,\\n    \"DZD\":157.145437,\\n    \"EGP\":17.723897,\\n    \"ERN\":16.938968,\\n    \"ETB\":53.798523,\\n    \"EUR\":1,\\n    \"FJD\":2.371915,\\n    \"FKP\":0.841775,\\n    \"GBP\":0.839766,\\n    \"GEL\":3.528924,\\n    \"GGP\":0.841775,\\n    \"GHS\":6.915296,\\n    \"GIP\":0.841775,\\n    \"GMD\":59.176589,\\n    \"GNF\":10781.196882,\\n    \"GTQ\":8.72954,\\n    \"GYD\":236.134512,\\n    \"HKD\":8.796975,\\n    \"HNL\":27.214148,\\n    \"HRK\":7.514766,\\n    \"HTG\":110.665936,\\n    \"HUF\":367.760413,\\n    \"IDR\":16108.738367,\\n    \"ILS\":3.496493,\\n    \"IMP\":0.841775,\\n    \"INR\":83.979187,\\n    \"IQD\":1646.729661,\\n    \"IRR\":47710.440284,\\n    \"ISK\":147.806814,\\n    \"JEP\":0.841775,\\n    \"JMD\":175.636079,\\n    \"JOD\":0.800677,\\n    \"JPY\":128.732935,\\n    \"KES\":126.509324,\\n    \"KGS\":95.737524,\\n    \"KHR\":4591.444355,\\n    \"KMF\":488.961827,\\n    \"KPW\":1016.317458,\\n    \"KRW\":1346.275734,\\n    \"KWD\":0.341698,\\n    \"KYD\":0.940559,\\n    \"KZT\":489.234871,\\n    \"LAK\":12093.692677,\\n    \"LBP\":1706.733251,\\n    \"LKR\":227.99165,\\n    \"LRD\":161.481882,\\n    \"LSL\":17.661763,\\n    \"LTL\":3.334356,\\n    \"LVL\":0.683067,\\n    \"LYD\":5.184323,\\n    \"MAD\":10.396936,\\n    \"MDL\":19.97779,\\n    \"MGA\":4502.999779,\\n    \"MKD\":61.599245,\\n    \"MMK\":1999.723626,\\n    \"MNT\":3227.61816,\\n    \"MOP\":9.058623,\\n    \"MRO\":403.138907,\\n    \"MUR\":48.896505,\\n    \"MVR\":17.447204,\\n    \"MWK\":920.389791,\\n    \"MXN\":23.545586,\\n    \"MYR\":4.724185,\\n    \"MZN\":72.079891,\\n    \"NAD\":17.661758,\\n    \"NGN\":463.937872,\\n    \"NIO\":39.759606,\\n    \"NOK\":10.066738,\\n    \"NPR\":134.082332,\\n    \"NZD\":1.614358,\\n    \"OMR\":0.434696,\\n    \"PAB\":1.128591,\\n    \"PEN\":4.542555,\\n    \"PGK\":3.963816,\\n    \"PHP\":57.083565,\\n    \"PKR\":197.688588,\\n    \"PLN\":4.691293,\\n    \"PYG\":7725.303208,\\n    \"QAR\":4.111611,\\n    \"RON\":4.950711,\\n    \"RSD\":117.610891,\\n    \"RUB\":83.001151,\\n    \"RWF\":1168.127103,\\n    \"SAR\":4.235477,\\n    \"SBD\":9.088532,\\n    \"SCR\":16.852838,\\n    \"SDG\":494.608021,\\n    \"SEK\":10.105382,\\n    \"SGD\":1.537466,\\n    \"SHP\":1.555421,\\n    \"SLL\":12449.8844,\\n    \"SOS\":659.477232,\\n    \"SRD\":24.275341,\\n    \"STD\":23373.012512,\\n    \"SVC\":9.875425,\\n    \"SYP\":1419.211749,\\n    \"SZL\":17.773865,\\n    \"THB\":37.084698,\\n    \"TJS\":12.748539,\\n    \"TMT\":3.952344,\\n    \"TND\":3.232736,\\n    \"TOP\":2.55288,\\n    \"TRY\":12.692615,\\n    \"TTD\":7.660327,\\n    \"TWD\":31.391818,\\n    \"TZS\":2599.513577,\\n    \"UAH\":30.010257,\\n    \"UGX\":4034.639339,\\n    \"USD\":1.129241,\\n    \"UYU\":49.797972,\\n    \"UZS\":12123.649207,\\n    \"VEF\":241465892748.1544,\\n    \"VND\":25590.863638,\\n    \"VUV\":125.706687,\\n    \"WST\":2.894969,\\n    \"XAF\":655.777661,\\n    \"XAG\":0.045844,\\n    \"XAU\":0.000611,\\n    \"XCD\":3.051831,\\n    \"XDR\":0.80568,\\n    \"XOF\":655.71961,\\n    \"XPF\":118.993832,\\n    \"YER\":282.593016,\\n    \"ZAR\":17.775759,\\n    \"ZMK\":10164.529773,\\n    \"ZMW\":19.891099,\\n    \"ZWL\":363.615199\\n  }\\n}'"
      ]
     },
     "execution_count": 8,
     "metadata": {},
     "output_type": "execute_result"
    }
   ],
   "source": [
    "response.content"
   ]
  },
  {
   "cell_type": "markdown",
   "metadata": {},
   "source": [
    "### Handling JSON"
   ]
  },
  {
   "cell_type": "code",
   "execution_count": 10,
   "metadata": {},
   "outputs": [
    {
     "data": {
      "text/plain": [
       "{'success': True,\n",
       " 'timestamp': 1637354824,\n",
       " 'base': 'EUR',\n",
       " 'date': '2021-11-19',\n",
       " 'rates': {'AED': 4.147636,\n",
       "  'AFN': 105.471156,\n",
       "  'ALL': 121.38949,\n",
       "  'AMD': 538.50227,\n",
       "  'ANG': 2.033964,\n",
       "  'AOA': 671.006857,\n",
       "  'ARS': 113.442896,\n",
       "  'AUD': 1.560577,\n",
       "  'AWG': 2.032916,\n",
       "  'AZN': 1.924193,\n",
       "  'BAM': 1.95533,\n",
       "  'BBD': 2.278675,\n",
       "  'BDT': 96.738444,\n",
       "  'BGN': 1.955963,\n",
       "  'BHD': 0.425747,\n",
       "  'BIF': 2246.926545,\n",
       "  'BMD': 1.129241,\n",
       "  'BND': 1.53628,\n",
       "  'BOB': 7.792779,\n",
       "  'BRL': 6.329063,\n",
       "  'BSD': 1.128591,\n",
       "  'BTC': 1.9457319e-05,\n",
       "  'BTN': 83.801282,\n",
       "  'BWP': 13.162633,\n",
       "  'BYN': 2.785188,\n",
       "  'BYR': 22133.127142,\n",
       "  'BZD': 2.274876,\n",
       "  'CAD': 1.428383,\n",
       "  'CDF': 2265.258217,\n",
       "  'CHF': 1.048433,\n",
       "  'CLF': 0.033906,\n",
       "  'CLP': 935.580736,\n",
       "  'CNY': 7.212694,\n",
       "  'COP': 4422.311727,\n",
       "  'CRC': 722.368481,\n",
       "  'CUC': 1.129241,\n",
       "  'CUP': 29.924891,\n",
       "  'CVE': 110.225095,\n",
       "  'CZK': 25.419664,\n",
       "  'DJF': 200.689187,\n",
       "  'DKK': 7.437104,\n",
       "  'DOP': 63.797903,\n",
       "  'DZD': 157.145437,\n",
       "  'EGP': 17.723897,\n",
       "  'ERN': 16.938968,\n",
       "  'ETB': 53.798523,\n",
       "  'EUR': 1,\n",
       "  'FJD': 2.371915,\n",
       "  'FKP': 0.841775,\n",
       "  'GBP': 0.839766,\n",
       "  'GEL': 3.528924,\n",
       "  'GGP': 0.841775,\n",
       "  'GHS': 6.915296,\n",
       "  'GIP': 0.841775,\n",
       "  'GMD': 59.176589,\n",
       "  'GNF': 10781.196882,\n",
       "  'GTQ': 8.72954,\n",
       "  'GYD': 236.134512,\n",
       "  'HKD': 8.796975,\n",
       "  'HNL': 27.214148,\n",
       "  'HRK': 7.514766,\n",
       "  'HTG': 110.665936,\n",
       "  'HUF': 367.760413,\n",
       "  'IDR': 16108.738367,\n",
       "  'ILS': 3.496493,\n",
       "  'IMP': 0.841775,\n",
       "  'INR': 83.979187,\n",
       "  'IQD': 1646.729661,\n",
       "  'IRR': 47710.440284,\n",
       "  'ISK': 147.806814,\n",
       "  'JEP': 0.841775,\n",
       "  'JMD': 175.636079,\n",
       "  'JOD': 0.800677,\n",
       "  'JPY': 128.732935,\n",
       "  'KES': 126.509324,\n",
       "  'KGS': 95.737524,\n",
       "  'KHR': 4591.444355,\n",
       "  'KMF': 488.961827,\n",
       "  'KPW': 1016.317458,\n",
       "  'KRW': 1346.275734,\n",
       "  'KWD': 0.341698,\n",
       "  'KYD': 0.940559,\n",
       "  'KZT': 489.234871,\n",
       "  'LAK': 12093.692677,\n",
       "  'LBP': 1706.733251,\n",
       "  'LKR': 227.99165,\n",
       "  'LRD': 161.481882,\n",
       "  'LSL': 17.661763,\n",
       "  'LTL': 3.334356,\n",
       "  'LVL': 0.683067,\n",
       "  'LYD': 5.184323,\n",
       "  'MAD': 10.396936,\n",
       "  'MDL': 19.97779,\n",
       "  'MGA': 4502.999779,\n",
       "  'MKD': 61.599245,\n",
       "  'MMK': 1999.723626,\n",
       "  'MNT': 3227.61816,\n",
       "  'MOP': 9.058623,\n",
       "  'MRO': 403.138907,\n",
       "  'MUR': 48.896505,\n",
       "  'MVR': 17.447204,\n",
       "  'MWK': 920.389791,\n",
       "  'MXN': 23.545586,\n",
       "  'MYR': 4.724185,\n",
       "  'MZN': 72.079891,\n",
       "  'NAD': 17.661758,\n",
       "  'NGN': 463.937872,\n",
       "  'NIO': 39.759606,\n",
       "  'NOK': 10.066738,\n",
       "  'NPR': 134.082332,\n",
       "  'NZD': 1.614358,\n",
       "  'OMR': 0.434696,\n",
       "  'PAB': 1.128591,\n",
       "  'PEN': 4.542555,\n",
       "  'PGK': 3.963816,\n",
       "  'PHP': 57.083565,\n",
       "  'PKR': 197.688588,\n",
       "  'PLN': 4.691293,\n",
       "  'PYG': 7725.303208,\n",
       "  'QAR': 4.111611,\n",
       "  'RON': 4.950711,\n",
       "  'RSD': 117.610891,\n",
       "  'RUB': 83.001151,\n",
       "  'RWF': 1168.127103,\n",
       "  'SAR': 4.235477,\n",
       "  'SBD': 9.088532,\n",
       "  'SCR': 16.852838,\n",
       "  'SDG': 494.608021,\n",
       "  'SEK': 10.105382,\n",
       "  'SGD': 1.537466,\n",
       "  'SHP': 1.555421,\n",
       "  'SLL': 12449.8844,\n",
       "  'SOS': 659.477232,\n",
       "  'SRD': 24.275341,\n",
       "  'STD': 23373.012512,\n",
       "  'SVC': 9.875425,\n",
       "  'SYP': 1419.211749,\n",
       "  'SZL': 17.773865,\n",
       "  'THB': 37.084698,\n",
       "  'TJS': 12.748539,\n",
       "  'TMT': 3.952344,\n",
       "  'TND': 3.232736,\n",
       "  'TOP': 2.55288,\n",
       "  'TRY': 12.692615,\n",
       "  'TTD': 7.660327,\n",
       "  'TWD': 31.391818,\n",
       "  'TZS': 2599.513577,\n",
       "  'UAH': 30.010257,\n",
       "  'UGX': 4034.639339,\n",
       "  'USD': 1.129241,\n",
       "  'UYU': 49.797972,\n",
       "  'UZS': 12123.649207,\n",
       "  'VEF': 241465892748.1544,\n",
       "  'VND': 25590.863638,\n",
       "  'VUV': 125.706687,\n",
       "  'WST': 2.894969,\n",
       "  'XAF': 655.777661,\n",
       "  'XAG': 0.045844,\n",
       "  'XAU': 0.000611,\n",
       "  'XCD': 3.051831,\n",
       "  'XDR': 0.80568,\n",
       "  'XOF': 655.71961,\n",
       "  'XPF': 118.993832,\n",
       "  'YER': 282.593016,\n",
       "  'ZAR': 17.775759,\n",
       "  'ZMK': 10164.529773,\n",
       "  'ZMW': 19.891099,\n",
       "  'ZWL': 363.615199}}"
      ]
     },
     "execution_count": 10,
     "metadata": {},
     "output_type": "execute_result"
    }
   ],
   "source": [
    "response.json()"
   ]
  },
  {
   "cell_type": "code",
   "execution_count": 11,
   "metadata": {},
   "outputs": [],
   "source": [
    "import json"
   ]
  },
  {
   "cell_type": "code",
   "execution_count": 14,
   "metadata": {},
   "outputs": [
    {
     "data": {
      "text/plain": [
       "'{\\n \"success\": true,\\n \"timestamp\": 1637354824,\\n \"base\": \"EUR\",\\n \"date\": \"2021-11-19\",\\n \"rates\": {\\n  \"AED\": 4.147636,\\n  \"AFN\": 105.471156,\\n  \"ALL\": 121.38949,\\n  \"AMD\": 538.50227,\\n  \"ANG\": 2.033964,\\n  \"AOA\": 671.006857,\\n  \"ARS\": 113.442896,\\n  \"AUD\": 1.560577,\\n  \"AWG\": 2.032916,\\n  \"AZN\": 1.924193,\\n  \"BAM\": 1.95533,\\n  \"BBD\": 2.278675,\\n  \"BDT\": 96.738444,\\n  \"BGN\": 1.955963,\\n  \"BHD\": 0.425747,\\n  \"BIF\": 2246.926545,\\n  \"BMD\": 1.129241,\\n  \"BND\": 1.53628,\\n  \"BOB\": 7.792779,\\n  \"BRL\": 6.329063,\\n  \"BSD\": 1.128591,\\n  \"BTC\": 1.9457319e-05,\\n  \"BTN\": 83.801282,\\n  \"BWP\": 13.162633,\\n  \"BYN\": 2.785188,\\n  \"BYR\": 22133.127142,\\n  \"BZD\": 2.274876,\\n  \"CAD\": 1.428383,\\n  \"CDF\": 2265.258217,\\n  \"CHF\": 1.048433,\\n  \"CLF\": 0.033906,\\n  \"CLP\": 935.580736,\\n  \"CNY\": 7.212694,\\n  \"COP\": 4422.311727,\\n  \"CRC\": 722.368481,\\n  \"CUC\": 1.129241,\\n  \"CUP\": 29.924891,\\n  \"CVE\": 110.225095,\\n  \"CZK\": 25.419664,\\n  \"DJF\": 200.689187,\\n  \"DKK\": 7.437104,\\n  \"DOP\": 63.797903,\\n  \"DZD\": 157.145437,\\n  \"EGP\": 17.723897,\\n  \"ERN\": 16.938968,\\n  \"ETB\": 53.798523,\\n  \"EUR\": 1,\\n  \"FJD\": 2.371915,\\n  \"FKP\": 0.841775,\\n  \"GBP\": 0.839766,\\n  \"GEL\": 3.528924,\\n  \"GGP\": 0.841775,\\n  \"GHS\": 6.915296,\\n  \"GIP\": 0.841775,\\n  \"GMD\": 59.176589,\\n  \"GNF\": 10781.196882,\\n  \"GTQ\": 8.72954,\\n  \"GYD\": 236.134512,\\n  \"HKD\": 8.796975,\\n  \"HNL\": 27.214148,\\n  \"HRK\": 7.514766,\\n  \"HTG\": 110.665936,\\n  \"HUF\": 367.760413,\\n  \"IDR\": 16108.738367,\\n  \"ILS\": 3.496493,\\n  \"IMP\": 0.841775,\\n  \"INR\": 83.979187,\\n  \"IQD\": 1646.729661,\\n  \"IRR\": 47710.440284,\\n  \"ISK\": 147.806814,\\n  \"JEP\": 0.841775,\\n  \"JMD\": 175.636079,\\n  \"JOD\": 0.800677,\\n  \"JPY\": 128.732935,\\n  \"KES\": 126.509324,\\n  \"KGS\": 95.737524,\\n  \"KHR\": 4591.444355,\\n  \"KMF\": 488.961827,\\n  \"KPW\": 1016.317458,\\n  \"KRW\": 1346.275734,\\n  \"KWD\": 0.341698,\\n  \"KYD\": 0.940559,\\n  \"KZT\": 489.234871,\\n  \"LAK\": 12093.692677,\\n  \"LBP\": 1706.733251,\\n  \"LKR\": 227.99165,\\n  \"LRD\": 161.481882,\\n  \"LSL\": 17.661763,\\n  \"LTL\": 3.334356,\\n  \"LVL\": 0.683067,\\n  \"LYD\": 5.184323,\\n  \"MAD\": 10.396936,\\n  \"MDL\": 19.97779,\\n  \"MGA\": 4502.999779,\\n  \"MKD\": 61.599245,\\n  \"MMK\": 1999.723626,\\n  \"MNT\": 3227.61816,\\n  \"MOP\": 9.058623,\\n  \"MRO\": 403.138907,\\n  \"MUR\": 48.896505,\\n  \"MVR\": 17.447204,\\n  \"MWK\": 920.389791,\\n  \"MXN\": 23.545586,\\n  \"MYR\": 4.724185,\\n  \"MZN\": 72.079891,\\n  \"NAD\": 17.661758,\\n  \"NGN\": 463.937872,\\n  \"NIO\": 39.759606,\\n  \"NOK\": 10.066738,\\n  \"NPR\": 134.082332,\\n  \"NZD\": 1.614358,\\n  \"OMR\": 0.434696,\\n  \"PAB\": 1.128591,\\n  \"PEN\": 4.542555,\\n  \"PGK\": 3.963816,\\n  \"PHP\": 57.083565,\\n  \"PKR\": 197.688588,\\n  \"PLN\": 4.691293,\\n  \"PYG\": 7725.303208,\\n  \"QAR\": 4.111611,\\n  \"RON\": 4.950711,\\n  \"RSD\": 117.610891,\\n  \"RUB\": 83.001151,\\n  \"RWF\": 1168.127103,\\n  \"SAR\": 4.235477,\\n  \"SBD\": 9.088532,\\n  \"SCR\": 16.852838,\\n  \"SDG\": 494.608021,\\n  \"SEK\": 10.105382,\\n  \"SGD\": 1.537466,\\n  \"SHP\": 1.555421,\\n  \"SLL\": 12449.8844,\\n  \"SOS\": 659.477232,\\n  \"SRD\": 24.275341,\\n  \"STD\": 23373.012512,\\n  \"SVC\": 9.875425,\\n  \"SYP\": 1419.211749,\\n  \"SZL\": 17.773865,\\n  \"THB\": 37.084698,\\n  \"TJS\": 12.748539,\\n  \"TMT\": 3.952344,\\n  \"TND\": 3.232736,\\n  \"TOP\": 2.55288,\\n  \"TRY\": 12.692615,\\n  \"TTD\": 7.660327,\\n  \"TWD\": 31.391818,\\n  \"TZS\": 2599.513577,\\n  \"UAH\": 30.010257,\\n  \"UGX\": 4034.639339,\\n  \"USD\": 1.129241,\\n  \"UYU\": 49.797972,\\n  \"UZS\": 12123.649207,\\n  \"VEF\": 241465892748.1544,\\n  \"VND\": 25590.863638,\\n  \"VUV\": 125.706687,\\n  \"WST\": 2.894969,\\n  \"XAF\": 655.777661,\\n  \"XAG\": 0.045844,\\n  \"XAU\": 0.000611,\\n  \"XCD\": 3.051831,\\n  \"XDR\": 0.80568,\\n  \"XOF\": 655.71961,\\n  \"XPF\": 118.993832,\\n  \"YER\": 282.593016,\\n  \"ZAR\": 17.775759,\\n  \"ZMK\": 10164.529773,\\n  \"ZMW\": 19.891099,\\n  \"ZWL\": 363.615199\\n }\\n}'"
      ]
     },
     "execution_count": 14,
     "metadata": {},
     "output_type": "execute_result"
    }
   ],
   "source": [
    "json.dumps(response.json(), indent=1)"
   ]
  },
  {
   "cell_type": "code",
   "execution_count": 17,
   "metadata": {},
   "outputs": [
    {
     "name": "stdout",
     "output_type": "stream",
     "text": [
      "{\n",
      "          \"success\": true,\n",
      "          \"timestamp\": 1637354824,\n",
      "          \"base\": \"EUR\",\n",
      "          \"date\": \"2021-11-19\",\n",
      "          \"rates\": {\n",
      "                    \"AED\": 4.147636,\n",
      "                    \"AFN\": 105.471156,\n",
      "                    \"ALL\": 121.38949,\n",
      "                    \"AMD\": 538.50227,\n",
      "                    \"ANG\": 2.033964,\n",
      "                    \"AOA\": 671.006857,\n",
      "                    \"ARS\": 113.442896,\n",
      "                    \"AUD\": 1.560577,\n",
      "                    \"AWG\": 2.032916,\n",
      "                    \"AZN\": 1.924193,\n",
      "                    \"BAM\": 1.95533,\n",
      "                    \"BBD\": 2.278675,\n",
      "                    \"BDT\": 96.738444,\n",
      "                    \"BGN\": 1.955963,\n",
      "                    \"BHD\": 0.425747,\n",
      "                    \"BIF\": 2246.926545,\n",
      "                    \"BMD\": 1.129241,\n",
      "                    \"BND\": 1.53628,\n",
      "                    \"BOB\": 7.792779,\n",
      "                    \"BRL\": 6.329063,\n",
      "                    \"BSD\": 1.128591,\n",
      "                    \"BTC\": 1.9457319e-05,\n",
      "                    \"BTN\": 83.801282,\n",
      "                    \"BWP\": 13.162633,\n",
      "                    \"BYN\": 2.785188,\n",
      "                    \"BYR\": 22133.127142,\n",
      "                    \"BZD\": 2.274876,\n",
      "                    \"CAD\": 1.428383,\n",
      "                    \"CDF\": 2265.258217,\n",
      "                    \"CHF\": 1.048433,\n",
      "                    \"CLF\": 0.033906,\n",
      "                    \"CLP\": 935.580736,\n",
      "                    \"CNY\": 7.212694,\n",
      "                    \"COP\": 4422.311727,\n",
      "                    \"CRC\": 722.368481,\n",
      "                    \"CUC\": 1.129241,\n",
      "                    \"CUP\": 29.924891,\n",
      "                    \"CVE\": 110.225095,\n",
      "                    \"CZK\": 25.419664,\n",
      "                    \"DJF\": 200.689187,\n",
      "                    \"DKK\": 7.437104,\n",
      "                    \"DOP\": 63.797903,\n",
      "                    \"DZD\": 157.145437,\n",
      "                    \"EGP\": 17.723897,\n",
      "                    \"ERN\": 16.938968,\n",
      "                    \"ETB\": 53.798523,\n",
      "                    \"EUR\": 1,\n",
      "                    \"FJD\": 2.371915,\n",
      "                    \"FKP\": 0.841775,\n",
      "                    \"GBP\": 0.839766,\n",
      "                    \"GEL\": 3.528924,\n",
      "                    \"GGP\": 0.841775,\n",
      "                    \"GHS\": 6.915296,\n",
      "                    \"GIP\": 0.841775,\n",
      "                    \"GMD\": 59.176589,\n",
      "                    \"GNF\": 10781.196882,\n",
      "                    \"GTQ\": 8.72954,\n",
      "                    \"GYD\": 236.134512,\n",
      "                    \"HKD\": 8.796975,\n",
      "                    \"HNL\": 27.214148,\n",
      "                    \"HRK\": 7.514766,\n",
      "                    \"HTG\": 110.665936,\n",
      "                    \"HUF\": 367.760413,\n",
      "                    \"IDR\": 16108.738367,\n",
      "                    \"ILS\": 3.496493,\n",
      "                    \"IMP\": 0.841775,\n",
      "                    \"INR\": 83.979187,\n",
      "                    \"IQD\": 1646.729661,\n",
      "                    \"IRR\": 47710.440284,\n",
      "                    \"ISK\": 147.806814,\n",
      "                    \"JEP\": 0.841775,\n",
      "                    \"JMD\": 175.636079,\n",
      "                    \"JOD\": 0.800677,\n",
      "                    \"JPY\": 128.732935,\n",
      "                    \"KES\": 126.509324,\n",
      "                    \"KGS\": 95.737524,\n",
      "                    \"KHR\": 4591.444355,\n",
      "                    \"KMF\": 488.961827,\n",
      "                    \"KPW\": 1016.317458,\n",
      "                    \"KRW\": 1346.275734,\n",
      "                    \"KWD\": 0.341698,\n",
      "                    \"KYD\": 0.940559,\n",
      "                    \"KZT\": 489.234871,\n",
      "                    \"LAK\": 12093.692677,\n",
      "                    \"LBP\": 1706.733251,\n",
      "                    \"LKR\": 227.99165,\n",
      "                    \"LRD\": 161.481882,\n",
      "                    \"LSL\": 17.661763,\n",
      "                    \"LTL\": 3.334356,\n",
      "                    \"LVL\": 0.683067,\n",
      "                    \"LYD\": 5.184323,\n",
      "                    \"MAD\": 10.396936,\n",
      "                    \"MDL\": 19.97779,\n",
      "                    \"MGA\": 4502.999779,\n",
      "                    \"MKD\": 61.599245,\n",
      "                    \"MMK\": 1999.723626,\n",
      "                    \"MNT\": 3227.61816,\n",
      "                    \"MOP\": 9.058623,\n",
      "                    \"MRO\": 403.138907,\n",
      "                    \"MUR\": 48.896505,\n",
      "                    \"MVR\": 17.447204,\n",
      "                    \"MWK\": 920.389791,\n",
      "                    \"MXN\": 23.545586,\n",
      "                    \"MYR\": 4.724185,\n",
      "                    \"MZN\": 72.079891,\n",
      "                    \"NAD\": 17.661758,\n",
      "                    \"NGN\": 463.937872,\n",
      "                    \"NIO\": 39.759606,\n",
      "                    \"NOK\": 10.066738,\n",
      "                    \"NPR\": 134.082332,\n",
      "                    \"NZD\": 1.614358,\n",
      "                    \"OMR\": 0.434696,\n",
      "                    \"PAB\": 1.128591,\n",
      "                    \"PEN\": 4.542555,\n",
      "                    \"PGK\": 3.963816,\n",
      "                    \"PHP\": 57.083565,\n",
      "                    \"PKR\": 197.688588,\n",
      "                    \"PLN\": 4.691293,\n",
      "                    \"PYG\": 7725.303208,\n",
      "                    \"QAR\": 4.111611,\n",
      "                    \"RON\": 4.950711,\n",
      "                    \"RSD\": 117.610891,\n",
      "                    \"RUB\": 83.001151,\n",
      "                    \"RWF\": 1168.127103,\n",
      "                    \"SAR\": 4.235477,\n",
      "                    \"SBD\": 9.088532,\n",
      "                    \"SCR\": 16.852838,\n",
      "                    \"SDG\": 494.608021,\n",
      "                    \"SEK\": 10.105382,\n",
      "                    \"SGD\": 1.537466,\n",
      "                    \"SHP\": 1.555421,\n",
      "                    \"SLL\": 12449.8844,\n",
      "                    \"SOS\": 659.477232,\n",
      "                    \"SRD\": 24.275341,\n",
      "                    \"STD\": 23373.012512,\n",
      "                    \"SVC\": 9.875425,\n",
      "                    \"SYP\": 1419.211749,\n",
      "                    \"SZL\": 17.773865,\n",
      "                    \"THB\": 37.084698,\n",
      "                    \"TJS\": 12.748539,\n",
      "                    \"TMT\": 3.952344,\n",
      "                    \"TND\": 3.232736,\n",
      "                    \"TOP\": 2.55288,\n",
      "                    \"TRY\": 12.692615,\n",
      "                    \"TTD\": 7.660327,\n",
      "                    \"TWD\": 31.391818,\n",
      "                    \"TZS\": 2599.513577,\n",
      "                    \"UAH\": 30.010257,\n",
      "                    \"UGX\": 4034.639339,\n",
      "                    \"USD\": 1.129241,\n",
      "                    \"UYU\": 49.797972,\n",
      "                    \"UZS\": 12123.649207,\n",
      "                    \"VEF\": 241465892748.1544,\n",
      "                    \"VND\": 25590.863638,\n",
      "                    \"VUV\": 125.706687,\n",
      "                    \"WST\": 2.894969,\n",
      "                    \"XAF\": 655.777661,\n",
      "                    \"XAG\": 0.045844,\n",
      "                    \"XAU\": 0.000611,\n",
      "                    \"XCD\": 3.051831,\n",
      "                    \"XDR\": 0.80568,\n",
      "                    \"XOF\": 655.71961,\n",
      "                    \"XPF\": 118.993832,\n",
      "                    \"YER\": 282.593016,\n",
      "                    \"ZAR\": 17.775759,\n",
      "                    \"ZMK\": 10164.529773,\n",
      "                    \"ZMW\": 19.891099,\n",
      "                    \"ZWL\": 363.615199\n",
      "          }\n",
      "}\n"
     ]
    }
   ],
   "source": [
    "print(json.dumps(response.json(), indent=10))"
   ]
  },
  {
   "cell_type": "code",
   "execution_count": 19,
   "metadata": {},
   "outputs": [
    {
     "data": {
      "text/plain": [
       "5"
      ]
     },
     "execution_count": 19,
     "metadata": {},
     "output_type": "execute_result"
    }
   ],
   "source": [
    "len(response.json().keys())"
   ]
  },
  {
   "cell_type": "code",
   "execution_count": 21,
   "metadata": {},
   "outputs": [
    {
     "data": {
      "text/plain": [
       "6"
      ]
     },
     "execution_count": 21,
     "metadata": {},
     "output_type": "execute_result"
    }
   ],
   "source": [
    "2+4\n"
   ]
  },
  {
   "cell_type": "code",
   "execution_count": 23,
   "metadata": {},
   "outputs": [
    {
     "name": "stdout",
     "output_type": "stream",
     "text": [
      "0 1 2 3 4 5 6 7 8 9 10 11 12 "
     ]
    }
   ],
   "source": [
    "for i in range(13):\n",
    "    print(i, end =' ')"
   ]
  },
  {
   "cell_type": "code",
   "execution_count": 24,
   "metadata": {},
   "outputs": [
    {
     "name": "stdout",
     "output_type": "stream",
     "text": [
      "6.0\n"
     ]
    }
   ],
   "source": [
    "x = 1 + 2 + 3.0\n",
    "\n",
    "print(x)"
   ]
  },
  {
   "cell_type": "code",
   "execution_count": 34,
   "metadata": {},
   "outputs": [
    {
     "data": {
      "text/plain": [
       "[58, 12, 5]"
      ]
     },
     "execution_count": 34,
     "metadata": {},
     "output_type": "execute_result"
    }
   ],
   "source": [
    "a =[58,12,5]\n",
    "a"
   ]
  },
  {
   "cell_type": "code",
   "execution_count": 37,
   "metadata": {},
   "outputs": [],
   "source": [
    "a.extend([10])"
   ]
  },
  {
   "cell_type": "code",
   "execution_count": 38,
   "metadata": {},
   "outputs": [
    {
     "data": {
      "text/plain": [
       "[58, 12, 5, 10, 10]"
      ]
     },
     "execution_count": 38,
     "metadata": {},
     "output_type": "execute_result"
    }
   ],
   "source": [
    "a"
   ]
  },
  {
   "cell_type": "code",
   "execution_count": 39,
   "metadata": {},
   "outputs": [
    {
     "data": {
      "text/plain": [
       "4.0"
      ]
     },
     "execution_count": 39,
     "metadata": {},
     "output_type": "execute_result"
    }
   ],
   "source": [
    "float(4)"
   ]
  },
  {
   "cell_type": "code",
   "execution_count": 41,
   "metadata": {},
   "outputs": [
    {
     "name": "stdout",
     "output_type": "stream",
     "text": [
      "22\n"
     ]
    },
    {
     "data": {
      "text/plain": [
       "NoneType"
      ]
     },
     "execution_count": 41,
     "metadata": {},
     "output_type": "execute_result"
    }
   ],
   "source": [
    "type(print('2'*2))"
   ]
  },
  {
   "cell_type": "code",
   "execution_count": 42,
   "metadata": {},
   "outputs": [
    {
     "name": "stdout",
     "output_type": "stream",
     "text": [
      "4\n"
     ]
    }
   ],
   "source": [
    "print(int('2')+2)"
   ]
  },
  {
   "cell_type": "code",
   "execution_count": 43,
   "metadata": {},
   "outputs": [
    {
     "name": "stdout",
     "output_type": "stream",
     "text": [
      "wisani\n"
     ]
    }
   ],
   "source": [
    "explorer = ['irvine', 'marko', 'salamander', 'wisani', 'robyn', 'joanne']\n",
    "\n",
    "for i in range(len(explorer)):\n",
    "\n",
    "    if explorer[i][-2] == 'n' and (explorer[i][1] == 'a' or explorer[i][-3] == 'a'):\n",
    "\n",
    "        print(explorer[i])"
   ]
  },
  {
   "cell_type": "code",
   "execution_count": 47,
   "metadata": {},
   "outputs": [
    {
     "name": "stdout",
     "output_type": "stream",
     "text": [
      "M\n",
      "y\n",
      " \n",
      "c\n",
      "t\n",
      " \n",
      "l\n",
      "k\n",
      "s\n",
      " \n",
      "w\n",
      "t\n",
      "c\n",
      "h\n",
      "n\n",
      "g\n",
      " \n",
      "t\n",
      "l\n",
      "v\n",
      "s\n",
      "n\n",
      "!\n"
     ]
    }
   ],
   "source": [
    "explore_string = 'My cat likes watching television!'\n",
    "\n",
    "k = [print(x) for x in explore_string if x not in \"aeiou\"]"
   ]
  },
  {
   "cell_type": "code",
   "execution_count": 48,
   "metadata": {},
   "outputs": [],
   "source": [
    "i = [12, 75, 87, 1, 3, 8, 0, 17, 24, 80, 27]"
   ]
  },
  {
   "cell_type": "code",
   "execution_count": 53,
   "metadata": {},
   "outputs": [],
   "source": [
    "i.sort(reverse=True)"
   ]
  },
  {
   "cell_type": "code",
   "execution_count": 54,
   "metadata": {},
   "outputs": [
    {
     "data": {
      "text/plain": [
       "[87, 80, 75, 27, 24, 17, 12, 8, 3, 1, 0]"
      ]
     },
     "execution_count": 54,
     "metadata": {},
     "output_type": "execute_result"
    }
   ],
   "source": [
    "i"
   ]
  },
  {
   "cell_type": "code",
   "execution_count": 55,
   "metadata": {},
   "outputs": [
    {
     "data": {
      "text/plain": [
       "[87, 80, 75, 27, 24, 17, 12, 8]"
      ]
     },
     "execution_count": 55,
     "metadata": {},
     "output_type": "execute_result"
    }
   ],
   "source": [
    "i[:-3]"
   ]
  },
  {
   "cell_type": "code",
   "execution_count": 56,
   "metadata": {},
   "outputs": [],
   "source": [
    "b={'prod':25,'seed':30}"
   ]
  },
  {
   "cell_type": "code",
   "execution_count": 58,
   "metadata": {},
   "outputs": [
    {
     "data": {
      "text/plain": [
       "dict_values([25, 30])"
      ]
     },
     "execution_count": 58,
     "metadata": {},
     "output_type": "execute_result"
    }
   ],
   "source": [
    "b.values()"
   ]
  },
  {
   "cell_type": "code",
   "execution_count": 60,
   "metadata": {},
   "outputs": [
    {
     "data": {
      "text/plain": [
       "dict_items([('prod', 25), ('seed', 30)])"
      ]
     },
     "execution_count": 60,
     "metadata": {},
     "output_type": "execute_result"
    }
   ],
   "source": [
    "b.items()"
   ]
  },
  {
   "cell_type": "code",
   "execution_count": 63,
   "metadata": {},
   "outputs": [
    {
     "ename": "SyntaxError",
     "evalue": "Missing parentheses in call to 'print'. Did you mean print(a)? (<ipython-input-63-16e03d6c117b>, line 3)",
     "output_type": "error",
     "traceback": [
      "\u001b[1;36m  File \u001b[1;32m\"<ipython-input-63-16e03d6c117b>\"\u001b[1;36m, line \u001b[1;32m3\u001b[0m\n\u001b[1;33m    print a\u001b[0m\n\u001b[1;37m          ^\u001b[0m\n\u001b[1;31mSyntaxError\u001b[0m\u001b[1;31m:\u001b[0m Missing parentheses in call to 'print'. Did you mean print(a)?\n"
     ]
    }
   ],
   "source": [
    "a  = {\"Craig\":10, \"Sizwe\":20}\n",
    "\n",
    "print a"
   ]
  },
  {
   "cell_type": "code",
   "execution_count": 64,
   "metadata": {},
   "outputs": [
    {
     "name": "stdout",
     "output_type": "stream",
     "text": [
      "['Craig', 'Sizwe']\n"
     ]
    }
   ],
   "source": [
    "d = {\"Craig\":40, \"Sizwe\":45}\n",
    "\n",
    "print(list(d.keys()))"
   ]
  },
  {
   "cell_type": "code",
   "execution_count": 65,
   "metadata": {},
   "outputs": [
    {
     "data": {
      "text/plain": [
       "{2, 4, 5, 6, 7}"
      ]
     },
     "execution_count": 65,
     "metadata": {},
     "output_type": "execute_result"
    }
   ],
   "source": [
    "my_set = {2, 5, 6, 6, 7, 2, 4}\n",
    "\n",
    "my_set"
   ]
  },
  {
   "cell_type": "code",
   "execution_count": 66,
   "metadata": {},
   "outputs": [],
   "source": [
    "A = 6\n",
    "B = 15"
   ]
  },
  {
   "cell_type": "code",
   "execution_count": 67,
   "metadata": {},
   "outputs": [
    {
     "data": {
      "text/plain": [
       "2.0"
      ]
     },
     "execution_count": 67,
     "metadata": {},
     "output_type": "execute_result"
    }
   ],
   "source": [
    "A % B/A // (A/B)"
   ]
  },
  {
   "cell_type": "code",
   "execution_count": 68,
   "metadata": {},
   "outputs": [
    {
     "name": "stdout",
     "output_type": "stream",
     "text": [
      "['joe', 'soap', 'john', 'doe']\n"
     ]
    }
   ],
   "source": [
    "name = ['joe', 'soap', 'john', 'doe']\n",
    "\n",
    "for i in name:\n",
    "\n",
    "    i.upper()\n",
    "\n",
    "print(name)"
   ]
  },
  {
   "cell_type": "code",
   "execution_count": 69,
   "metadata": {},
   "outputs": [
    {
     "ename": "SyntaxError",
     "evalue": "invalid syntax (<ipython-input-69-44b443c623d4>, line 11)",
     "output_type": "error",
     "traceback": [
      "\u001b[1;36m  File \u001b[1;32m\"<ipython-input-69-44b443c623d4>\"\u001b[1;36m, line \u001b[1;32m11\u001b[0m\n\u001b[1;33m    count + = 1\u001b[0m\n\u001b[1;37m            ^\u001b[0m\n\u001b[1;31mSyntaxError\u001b[0m\u001b[1;31m:\u001b[0m invalid syntax\n"
     ]
    }
   ],
   "source": [
    "count = 1\n",
    "\n",
    "while True:\n",
    "\n",
    "    if count%2 == 0:\n",
    "\n",
    "        break\n",
    "\n",
    "    print(count)\n",
    "\n",
    "    count + = 1"
   ]
  },
  {
   "cell_type": "code",
   "execution_count": 70,
   "metadata": {},
   "outputs": [
    {
     "name": "stdout",
     "output_type": "stream",
     "text": [
      "1\n",
      "2\n",
      "3\n",
      "4\n",
      "5\n"
     ]
    }
   ],
   "source": [
    "n = 1\n",
    "\n",
    "while True:\n",
    "\n",
    "    if n%0O6 == 0:\n",
    "\n",
    "        break\n",
    "\n",
    "    print(n)\n",
    "\n",
    "    n += 1"
   ]
  },
  {
   "cell_type": "code",
   "execution_count": 71,
   "metadata": {},
   "outputs": [
    {
     "ename": "SyntaxError",
     "evalue": "can't assign to keyword (<ipython-input-71-7892e00be40f>, line 1)",
     "output_type": "error",
     "traceback": [
      "\u001b[1;36m  File \u001b[1;32m\"<ipython-input-71-7892e00be40f>\"\u001b[1;36m, line \u001b[1;32m1\u001b[0m\n\u001b[1;33m    None = True\u001b[0m\n\u001b[1;37m               ^\u001b[0m\n\u001b[1;31mSyntaxError\u001b[0m\u001b[1;31m:\u001b[0m can't assign to keyword\n"
     ]
    }
   ],
   "source": [
    "None = True\n",
    "\n",
    "while True:\n",
    "\n",
    "    print(None)\n",
    "\n",
    "    break"
   ]
  },
  {
   "cell_type": "code",
   "execution_count": 72,
   "metadata": {},
   "outputs": [
    {
     "name": "stdout",
     "output_type": "stream",
     "text": [
      "0\n",
      "1\n",
      "2\n"
     ]
    }
   ],
   "source": [
    "x = (i for i in range(3))\n",
    "\n",
    "for i in x:\n",
    "\n",
    "    print(i)\n",
    "\n",
    "for i in x:\n",
    "\n",
    "    print(i)"
   ]
  },
  {
   "cell_type": "code",
   "execution_count": 73,
   "metadata": {},
   "outputs": [
    {
     "ename": "TypeError",
     "evalue": "multiply() missing 2 required positional arguments: 'x' and 'y'",
     "output_type": "error",
     "traceback": [
      "\u001b[1;31m---------------------------------------------------------------------------\u001b[0m",
      "\u001b[1;31mTypeError\u001b[0m                                 Traceback (most recent call last)",
      "\u001b[1;32m<ipython-input-73-201020a58961>\u001b[0m in \u001b[0;36m<module>\u001b[1;34m\u001b[0m\n\u001b[0;32m      3\u001b[0m     \u001b[1;32mreturn\u001b[0m \u001b[0mx\u001b[0m\u001b[1;33m*\u001b[0m\u001b[0my\u001b[0m\u001b[1;33m\u001b[0m\u001b[1;33m\u001b[0m\u001b[0m\n\u001b[0;32m      4\u001b[0m \u001b[1;33m\u001b[0m\u001b[0m\n\u001b[1;32m----> 5\u001b[1;33m \u001b[0mmultiply\u001b[0m\u001b[1;33m(\u001b[0m\u001b[1;33m)\u001b[0m\u001b[1;33m\u001b[0m\u001b[1;33m\u001b[0m\u001b[0m\n\u001b[0m",
      "\u001b[1;31mTypeError\u001b[0m: multiply() missing 2 required positional arguments: 'x' and 'y'"
     ]
    }
   ],
   "source": [
    "def multiply(x,y):\n",
    "\n",
    "    return x*y\n",
    "\n",
    "multiply()"
   ]
  },
  {
   "cell_type": "code",
   "execution_count": 74,
   "metadata": {},
   "outputs": [
    {
     "ename": "SyntaxError",
     "evalue": "invalid syntax (<ipython-input-74-9ec6ee2e81bf>, line 1)",
     "output_type": "error",
     "traceback": [
      "\u001b[1;36m  File \u001b[1;32m\"<ipython-input-74-9ec6ee2e81bf>\"\u001b[1;36m, line \u001b[1;32m1\u001b[0m\n\u001b[1;33m    def divide(x,y)\u001b[0m\n\u001b[1;37m                   ^\u001b[0m\n\u001b[1;31mSyntaxError\u001b[0m\u001b[1;31m:\u001b[0m invalid syntax\n"
     ]
    }
   ],
   "source": [
    "def divide(x,y)\n",
    "\n",
    "    return x/y \n",
    "\n",
    "divide(6,3)"
   ]
  },
  {
   "cell_type": "code",
   "execution_count": 94,
   "metadata": {},
   "outputs": [],
   "source": [
    "def equate(x,y): \n",
    "    return (x^y)/8"
   ]
  },
  {
   "cell_type": "code",
   "execution_count": 95,
   "metadata": {},
   "outputs": [
    {
     "data": {
      "text/plain": [
       "8.25"
      ]
     },
     "execution_count": 95,
     "metadata": {},
     "output_type": "execute_result"
    }
   ],
   "source": [
    "equate(64,2)"
   ]
  },
  {
   "cell_type": "code",
   "execution_count": 89,
   "metadata": {},
   "outputs": [],
   "source": [
    "def factorial(n):\n",
    "\n",
    "      if n == 1: \n",
    "\n",
    "          return n\n",
    "\n",
    "      else: \n",
    "\n",
    "          return n * factorial(n-1)"
   ]
  },
  {
   "cell_type": "code",
   "execution_count": 93,
   "metadata": {},
   "outputs": [
    {
     "data": {
      "text/plain": [
       "6689502913449127057588118054090372586752746333138029810295671352301633557244962989366874165271984981308157637893214090552534408589408121859898481114389650005964960521256960000000000000000000000000000"
      ]
     },
     "execution_count": 93,
     "metadata": {},
     "output_type": "execute_result"
    }
   ],
   "source": [
    "factorial(120)"
   ]
  },
  {
   "cell_type": "code",
   "execution_count": 91,
   "metadata": {},
   "outputs": [
    {
     "name": "stdout",
     "output_type": "stream",
     "text": [
      "Value of n is 12\n",
      "Changed global n to 7\n",
      "Value of n is now 7\n"
     ]
    }
   ],
   "source": [
    "n = 12\n",
    "\n",
    "def func():\n",
    "\n",
    "    global n\n",
    "\n",
    "    print('Value of n is', n)\n",
    "\n",
    "    n = 7\n",
    "\n",
    "    print('Changed global n to', n)\n",
    "\n",
    "func()\n",
    "\n",
    "print('Value of n is now', n)"
   ]
  },
  {
   "cell_type": "code",
   "execution_count": 96,
   "metadata": {},
   "outputs": [
    {
     "name": "stdout",
     "output_type": "stream",
     "text": [
      "Doubles to begin,\n"
     ]
    }
   ],
   "source": [
    "print('{}'.format(\"Doubles to begin,\",'and singles to end?'))"
   ]
  },
  {
   "cell_type": "code",
   "execution_count": 97,
   "metadata": {},
   "outputs": [
    {
     "ename": "SyntaxError",
     "evalue": "invalid syntax (<ipython-input-97-142b0fb66714>, line 1)",
     "output_type": "error",
     "traceback": [
      "\u001b[1;36m  File \u001b[1;32m\"<ipython-input-97-142b0fb66714>\"\u001b[1;36m, line \u001b[1;32m1\u001b[0m\n\u001b[1;33m    print(Doubles to begin and singles to end\")\u001b[0m\n\u001b[1;37m                   ^\u001b[0m\n\u001b[1;31mSyntaxError\u001b[0m\u001b[1;31m:\u001b[0m invalid syntax\n"
     ]
    }
   ],
   "source": [
    "print(Doubles to begin and singles to end\")"
   ]
  },
  {
   "cell_type": "code",
   "execution_count": null,
   "metadata": {},
   "outputs": [],
   "source": []
  }
 ],
 "metadata": {
  "kernelspec": {
   "display_name": "Python 3",
   "language": "python",
   "name": "python3"
  },
  "language_info": {
   "codemirror_mode": {
    "name": "ipython",
    "version": 3
   },
   "file_extension": ".py",
   "mimetype": "text/x-python",
   "name": "python",
   "nbconvert_exporter": "python",
   "pygments_lexer": "ipython3",
   "version": "3.7.1"
  }
 },
 "nbformat": 4,
 "nbformat_minor": 2
}
